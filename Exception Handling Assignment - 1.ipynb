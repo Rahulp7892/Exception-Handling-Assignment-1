{
 "cells": [
  {
   "cell_type": "code",
   "execution_count": 1,
   "id": "c11f47c3-3bed-4f31-998c-31b4cca7d1a2",
   "metadata": {},
   "outputs": [],
   "source": [
    "#Q.1 What is an python? Write the difference between Exceptions and syntax errors."
   ]
  },
  {
   "cell_type": "code",
   "execution_count": 2,
   "id": "3dd6b627-c534-46c5-a8db-318d86e6a70e",
   "metadata": {},
   "outputs": [],
   "source": [
    "#Ans"
   ]
  },
  {
   "cell_type": "code",
   "execution_count": 3,
   "id": "a8f94e19-259c-460c-9832-22b859f81c4a",
   "metadata": {},
   "outputs": [
    {
     "name": "stdout",
     "output_type": "stream",
     "text": [
      "Cannot divide by zero!\n"
     ]
    }
   ],
   "source": [
    "try:\n",
    "    result = 10 / 0\n",
    "except ZeroDivisionError:\n",
    "    print(\"Cannot divide by zero!\")\n"
   ]
  },
  {
   "cell_type": "code",
   "execution_count": 6,
   "id": "5d534d6a-f1d5-47aa-8057-bd9ab9e5fbea",
   "metadata": {},
   "outputs": [
    {
     "ename": "SyntaxError",
     "evalue": "incomplete input (3351714144.py, line 1)",
     "output_type": "error",
     "traceback": [
      "\u001b[0;36m  Cell \u001b[0;32mIn[6], line 1\u001b[0;36m\u001b[0m\n\u001b[0;31m    print(\"Hello, world!\"\u001b[0m\n\u001b[0m                         ^\u001b[0m\n\u001b[0;31mSyntaxError\u001b[0m\u001b[0;31m:\u001b[0m incomplete input\n"
     ]
    }
   ],
   "source": [
    "print(\"Hello, world!\""
   ]
  },
  {
   "cell_type": "code",
   "execution_count": 7,
   "id": "f68948ea-0b2d-42f1-a0f1-54832742c20c",
   "metadata": {},
   "outputs": [],
   "source": [
    "#Q.2 What happens when an exception is not handled?Explain with an example."
   ]
  },
  {
   "cell_type": "code",
   "execution_count": 8,
   "id": "25c0aaef-38af-4269-bec4-b1495ce2defc",
   "metadata": {},
   "outputs": [],
   "source": [
    "#Ans"
   ]
  },
  {
   "cell_type": "code",
   "execution_count": 10,
   "id": "746a46ff-f936-404c-9366-f6372b2c9435",
   "metadata": {},
   "outputs": [
    {
     "ename": "ZeroDivisionError",
     "evalue": "division by zero",
     "output_type": "error",
     "traceback": [
      "\u001b[0;31m---------------------------------------------------------------------------\u001b[0m",
      "\u001b[0;31mZeroDivisionError\u001b[0m                         Traceback (most recent call last)",
      "Cell \u001b[0;32mIn[10], line 4\u001b[0m\n\u001b[1;32m      1\u001b[0m \u001b[38;5;28;01mdef\u001b[39;00m \u001b[38;5;21mdivide_numbers\u001b[39m(a, b):\n\u001b[1;32m      2\u001b[0m     \u001b[38;5;28;01mreturn\u001b[39;00m a \u001b[38;5;241m/\u001b[39m b\n\u001b[0;32m----> 4\u001b[0m result \u001b[38;5;241m=\u001b[39m \u001b[43mdivide_numbers\u001b[49m\u001b[43m(\u001b[49m\u001b[38;5;241;43m10\u001b[39;49m\u001b[43m,\u001b[49m\u001b[43m \u001b[49m\u001b[38;5;241;43m0\u001b[39;49m\u001b[43m)\u001b[49m\n\u001b[1;32m      5\u001b[0m \u001b[38;5;28mprint\u001b[39m(result)\n",
      "Cell \u001b[0;32mIn[10], line 2\u001b[0m, in \u001b[0;36mdivide_numbers\u001b[0;34m(a, b)\u001b[0m\n\u001b[1;32m      1\u001b[0m \u001b[38;5;28;01mdef\u001b[39;00m \u001b[38;5;21mdivide_numbers\u001b[39m(a, b):\n\u001b[0;32m----> 2\u001b[0m     \u001b[38;5;28;01mreturn\u001b[39;00m \u001b[43ma\u001b[49m\u001b[43m \u001b[49m\u001b[38;5;241;43m/\u001b[39;49m\u001b[43m \u001b[49m\u001b[43mb\u001b[49m\n",
      "\u001b[0;31mZeroDivisionError\u001b[0m: division by zero"
     ]
    }
   ],
   "source": [
    "def divide_numbers(a, b):\n",
    "    return a / b\n",
    "\n",
    "result = divide_numbers(10, 0)\n",
    "print(result)"
   ]
  },
  {
   "cell_type": "code",
   "execution_count": 11,
   "id": "3fbc0c61-f09e-4189-99ba-9385ed5c140f",
   "metadata": {},
   "outputs": [
    {
     "name": "stdout",
     "output_type": "stream",
     "text": [
      "Error: Cannot divide by zero!\n",
      "None\n"
     ]
    }
   ],
   "source": [
    "def divide_numbers(a, b):\n",
    "    try:\n",
    "        return a / b\n",
    "    except ZeroDivisionError:\n",
    "        print(\"Error: Cannot divide by zero!\")\n",
    "        return None\n",
    "\n",
    "result = divide_numbers(10, 0)\n",
    "print(result)"
   ]
  },
  {
   "cell_type": "code",
   "execution_count": 12,
   "id": "b8d72466-e281-43cf-a19b-73229741e58f",
   "metadata": {},
   "outputs": [],
   "source": [
    "#Q.3 Which python statements are used to catch and handle exception?Explain with an example."
   ]
  },
  {
   "cell_type": "code",
   "execution_count": 13,
   "id": "dd9e8eca-cdea-4e5d-90f1-9a06b8425c7e",
   "metadata": {},
   "outputs": [],
   "source": [
    "#Ans"
   ]
  },
  {
   "cell_type": "code",
   "execution_count": 15,
   "id": "7c338085-5282-4146-88ac-56b8de5aa637",
   "metadata": {},
   "outputs": [
    {
     "name": "stdout",
     "output_type": "stream",
     "text": [
      "Division successful!\n",
      "Execution complete.\n",
      "5.0\n",
      "Error: Cannot divide by zero!\n",
      "Execution complete.\n",
      "None\n",
      "Error: Both inputs must be numbers!\n",
      "Execution complete.\n",
      "None\n"
     ]
    }
   ],
   "source": [
    "def divide_numbers(a, b):\n",
    "    try:\n",
    "        result = a / b\n",
    "    except ZeroDivisionError:\n",
    "        print(\"Error: Cannot divide by zero!\")\n",
    "        return None\n",
    "    except TypeError:\n",
    "        print(\"Error: Both inputs must be numbers!\")\n",
    "        return None\n",
    "    else:\n",
    "        print(\"Division successful!\")\n",
    "        return result\n",
    "    finally:\n",
    "        print(\"Execution complete.\")\n",
    "\n",
    "print(divide_numbers(10, 2))  \n",
    "print(divide_numbers(10, 0))   \n",
    "print(divide_numbers(10, 'a')) "
   ]
  },
  {
   "cell_type": "code",
   "execution_count": 16,
   "id": "491d214f-a337-4c37-9629-472aad0a886f",
   "metadata": {},
   "outputs": [],
   "source": [
    "#Q.4 Explain with an example: \n",
    "#a) try and else \n",
    "#b) finally \n",
    "#c) raise"
   ]
  },
  {
   "cell_type": "code",
   "execution_count": 17,
   "id": "531ef6d8-09a6-4036-88bb-1e4562b3de4e",
   "metadata": {},
   "outputs": [],
   "source": [
    "#Ans"
   ]
  },
  {
   "cell_type": "code",
   "execution_count": 18,
   "id": "e700d838-c8bd-41df-88e1-ed9adc8ceeb2",
   "metadata": {},
   "outputs": [
    {
     "name": "stdout",
     "output_type": "stream",
     "text": [
      "Division successful!\n",
      "Execution complete.\n",
      "5.0\n",
      "Error: Cannot divide by zero!\n",
      "Execution complete.\n",
      "None\n"
     ]
    }
   ],
   "source": [
    "def divide(a, b):\n",
    "    try:\n",
    "        result = a / b\n",
    "    except ZeroDivisionError:\n",
    "        print(\"Error: Cannot divide by zero!\")\n",
    "        return None\n",
    "    else:\n",
    "        print(\"Division successful!\")\n",
    "        return result\n",
    "    finally:\n",
    "        print(\"Execution complete.\")\n",
    "\n",
    "print(divide(10, 2))  \n",
    "print(divide(10, 0))  "
   ]
  },
  {
   "cell_type": "code",
   "execution_count": 20,
   "id": "9d18b20f-a852-4571-930e-62df61da5fd9",
   "metadata": {},
   "outputs": [
    {
     "name": "stdout",
     "output_type": "stream",
     "text": [
      "Error: File not found!\n",
      "None\n",
      "Error: File not found!\n",
      "None\n"
     ]
    }
   ],
   "source": [
    "def open_file(filename):\n",
    "    file = None\n",
    "    try:\n",
    "        file = open(filename, 'r')\n",
    "        content = file.read()\n",
    "        print(\"File content read successfully!\")\n",
    "        return content\n",
    "    except FileNotFoundError:\n",
    "        print(\"Error: File not found!\")\n",
    "        return None\n",
    "    finally:\n",
    "        if file:\n",
    "            file.close()\n",
    "            print(\"File closed.\")\n",
    "\n",
    "print(open_file(\"existing_file.txt\"))  \n",
    "print(open_file(\"nonexistent_file.txt\"))  "
   ]
  },
  {
   "cell_type": "code",
   "execution_count": 21,
   "id": "33eb8e7b-b53b-4197-8290-8aeb7d4006b2",
   "metadata": {},
   "outputs": [
    {
     "name": "stdout",
     "output_type": "stream",
     "text": [
      "Error: Age cannot be negative.\n",
      "Error: Age must be 18 or older.\n",
      "Age is valid.\n"
     ]
    }
   ],
   "source": [
    "def check_age(age):\n",
    "    if age < 0:\n",
    "        raise ValueError(\"Age cannot be negative.\")\n",
    "    elif age < 18:\n",
    "        raise ValueError(\"Age must be 18 or older.\")\n",
    "    else:\n",
    "        return \"Age is valid.\"\n",
    "\n",
    "try:\n",
    "    print(check_age(-5))  \n",
    "except ValueError as e:\n",
    "    print(f\"Error: {e}\")\n",
    "\n",
    "try:\n",
    "    print(check_age(16))   \n",
    "except ValueError as e:\n",
    "    print(f\"Error: {e}\")\n",
    "\n",
    "try:\n",
    "    print(check_age(25))\n",
    "except ValueError as e:\n",
    "    print(f\"Error: {e}\")"
   ]
  },
  {
   "cell_type": "code",
   "execution_count": 22,
   "id": "306533da-6de2-46de-97ae-5d5028343d8a",
   "metadata": {},
   "outputs": [],
   "source": [
    "#Q.5 What are custom exceptions in python? Why do we need custom exceptions? Explain with an example. "
   ]
  },
  {
   "cell_type": "code",
   "execution_count": 23,
   "id": "03ad9a50-79a4-44eb-8fd6-47d34bb0eb12",
   "metadata": {},
   "outputs": [],
   "source": [
    "#Ans"
   ]
  },
  {
   "cell_type": "code",
   "execution_count": 24,
   "id": "87e8c068-e2c0-4657-9619-471e906ff1ab",
   "metadata": {},
   "outputs": [],
   "source": [
    "class BankError(Exception):\n",
    "    \"\"\"Base class for all bank-related exceptions\"\"\"\n",
    "    pass\n",
    "\n",
    "class InsufficientFundsError(BankError):\n",
    "    \"\"\"Exception raised for insufficient funds\"\"\"\n",
    "    def __init__(self, message=\"Insufficient funds for the transaction\"):\n",
    "        self.message = message\n",
    "        super().__init__(self.message)\n",
    "\n",
    "class AccountNotFoundError(BankError):\n",
    "    \"\"\"Exception raised when an account is not found\"\"\"\n",
    "    def __init__(self, message=\"Account not found\"):\n",
    "        self.message = message\n",
    "        super().__init__(self.message)\n"
   ]
  },
  {
   "cell_type": "code",
   "execution_count": 25,
   "id": "1be54124-c565-41f7-9b5b-057f0975e413",
   "metadata": {},
   "outputs": [
    {
     "name": "stdout",
     "output_type": "stream",
     "text": [
      "Withdrew $200. New balance is $800.\n",
      "Error: Attempted to withdraw $1000, but only $800 available.\n"
     ]
    }
   ],
   "source": [
    "class BankAccount:\n",
    "    def __init__(self, account_number, balance):\n",
    "        self.account_number = account_number\n",
    "        self.balance = balance\n",
    "\n",
    "    def withdraw(self, amount):\n",
    "        if amount > self.balance:\n",
    "            raise InsufficientFundsError(f\"Attempted to withdraw ${amount}, but only ${self.balance} available.\")\n",
    "        self.balance -= amount\n",
    "        print(f\"Withdrew ${amount}. New balance is ${self.balance}.\")\n",
    "\n",
    "    def deposit(self, amount):\n",
    "        self.balance += amount\n",
    "        print(f\"Deposited ${amount}. New balance is ${self.balance}.\")\n",
    "\n",
    "def get_account(account_number, accounts):\n",
    "    if account_number not in accounts:\n",
    "        raise AccountNotFoundError(f\"Account with number {account_number} does not exist.\")\n",
    "    return accounts[account_number]\n",
    "\n",
    "accounts = {\n",
    "    \"12345\": BankAccount(\"12345\", 1000),\n",
    "    \"67890\": BankAccount(\"67890\", 500)\n",
    "}\n",
    "\n",
    "try:\n",
    "    account = get_account(\"12345\", accounts)\n",
    "    account.withdraw(200)\n",
    "    account.withdraw(1000)  \n",
    "except AccountNotFoundError as e:\n",
    "    print(f\"Error: {e}\")\n",
    "except InsufficientFundsError as e:\n",
    "    print(f\"Error: {e}\")"
   ]
  },
  {
   "cell_type": "code",
   "execution_count": 26,
   "id": "d045f317-4dbf-487f-be2d-88ee7ee8b24c",
   "metadata": {},
   "outputs": [],
   "source": [
    "#Q.6 Create a custom exception class. Use this class to handle an exception."
   ]
  },
  {
   "cell_type": "code",
   "execution_count": 27,
   "id": "76dd2692-7e21-44a5-a318-b63d22433dea",
   "metadata": {},
   "outputs": [],
   "source": [
    "#Ans"
   ]
  },
  {
   "cell_type": "code",
   "execution_count": 28,
   "id": "fde0b0e5-c4b5-468c-ab72-ebd39c1a729f",
   "metadata": {},
   "outputs": [],
   "source": [
    "class InvalidAgeError(Exception):\n",
    "    \"\"\"Exception raised for invalid age input.\"\"\"\n",
    "    def __init__(self, age, message=\"Invalid age provided\"):\n",
    "        self.age = age\n",
    "        self.message = message\n",
    "        super().__init__(f\"{message}: {age}\")"
   ]
  },
  {
   "cell_type": "code",
   "execution_count": 31,
   "id": "7b50d23b-6971-4267-8cf4-bcba7c6b388d",
   "metadata": {},
   "outputs": [
    {
     "name": "stdin",
     "output_type": "stream",
     "text": [
      "Enter your age:  \"Rahul\"\n"
     ]
    },
    {
     "name": "stdout",
     "output_type": "stream",
     "text": [
      "Error: Please enter a valid integer.\n"
     ]
    }
   ],
   "source": [
    "def set_age(age):\n",
    "    if age < 0 or age > 120:\n",
    "        raise InvalidAgeError(age, \"Age must be between 0 and 120\")\n",
    "    return f\"Age set to {age}.\"\n",
    "\n",
    "try:\n",
    "    age = int(input(\"Enter your age: \"))\n",
    "    result = set_age(age)\n",
    "    print(result)\n",
    "except InvalidAgeError as e:\n",
    "    print(f\"Error: {e}\")\n",
    "except ValueError:\n",
    "    print(\"Error: Please enter a valid integer.\")"
   ]
  },
  {
   "cell_type": "code",
   "execution_count": null,
   "id": "6604bc88-c445-4694-80e0-9490bad9f088",
   "metadata": {},
   "outputs": [],
   "source": []
  }
 ],
 "metadata": {
  "kernelspec": {
   "display_name": "Python 3 (ipykernel)",
   "language": "python",
   "name": "python3"
  },
  "language_info": {
   "codemirror_mode": {
    "name": "ipython",
    "version": 3
   },
   "file_extension": ".py",
   "mimetype": "text/x-python",
   "name": "python",
   "nbconvert_exporter": "python",
   "pygments_lexer": "ipython3",
   "version": "3.10.8"
  }
 },
 "nbformat": 4,
 "nbformat_minor": 5
}
